{
 "cells": [
  {
   "cell_type": "code",
   "execution_count": null,
   "metadata": {
    "colab": {
     "base_uri": "https://localhost:8080/"
    },
    "id": "n6tc1IEuzmOK",
    "outputId": "95a892c0-a76f-47cd-b260-54f4e9086fe8"
   },
   "outputs": [
    {
     "name": "stdout",
     "output_type": "stream",
     "text": [
      "Requirement already satisfied: neo4j in /usr/local/lib/python3.10/dist-packages (5.25.0)\n",
      "Requirement already satisfied: pytz in /usr/local/lib/python3.10/dist-packages (from neo4j) (2024.2)\n"
     ]
    }
   ],
   "source": [
    "import os\n",
    "!pip install neo4j\n",
    "from neo4j import GraphDatabase\n",
    "\n",
    "senha = \"\"\n",
    "url = \"\"\n",
    "usuario = \"neo4j\""
   ]
  },
  {
   "cell_type": "code",
   "execution_count": 6,
   "metadata": {
    "colab": {
     "base_uri": "https://localhost:8080/"
    },
    "id": "mLKToaZZzM-6",
    "outputId": "d570e933-e3d3-4427-e687-bb9ba87202e4"
   },
   "outputs": [
    {
     "name": "stderr",
     "output_type": "stream",
     "text": [
      "<ipython-input-6-ff77a60f16e2>:13: DeprecationWarning: write_transaction has been renamed to execute_write\n",
      "  session.write_transaction(self._zera_base)\n",
      "<ipython-input-6-ff77a60f16e2>:14: DeprecationWarning: write_transaction has been renamed to execute_write\n",
      "  session.write_transaction(self._cria_amizade)\n"
     ]
    },
    {
     "name": "stdout",
     "output_type": "stream",
     "text": [
      "base carregada\n"
     ]
    }
   ],
   "source": [
    "# Exemplos\n",
    "# https://gist.github.com/wjgilmore/8ba5f31ef1435dc04c52\n",
    "\n",
    "class CriarAmizades:\n",
    "  def __init__(self, uri, user, password):\n",
    "    self.driver = GraphDatabase.driver(uri, auth=(user, password))\n",
    "\n",
    "  def close(self):\n",
    "    self.driver.close()\n",
    "\n",
    "  def carrega_base(self):\n",
    "    with self.driver.session() as session:\n",
    "      session.write_transaction(self._zera_base)\n",
    "      session.write_transaction(self._cria_amizade)\n",
    "\n",
    "  @staticmethod\n",
    "  def _zera_base(tx):\n",
    "    tx.run(\"\"\"\n",
    "MATCH (n)\n",
    "DETACH DELETE n\n",
    "\"\"\")\n",
    "\n",
    "  @staticmethod\n",
    "  def _cria_amizade(tx):\n",
    "    tx.run(\"\"\"\n",
    "CREATE (jose:PESSOA {nome: 'Jose da Silva', id: 1234})\n",
    "CREATE (mariana:PESSOA {nome: 'Mariana Almeida', id: 5678})\n",
    "CREATE (gabriela:PESSOA {nome: 'Gabriela Oliveira', id: 9876})\n",
    "CREATE (caio:PESSOA {nome: 'Caio Catalão', id: '4326'})\n",
    "\n",
    "CREATE (a101:SALA {sala: 'A101', capacidade: 10, bloco: \"A\"})\n",
    "CREATE (c127:SALA {sala: 'C127', capacidade: 5, bloco: \"C\"})\n",
    "CREATE (a231:SALA {sala: 'A231', capacidade: 10, bloco: \"A\"})\n",
    "CREATE (b222:SALA {sala: 'B222', capacidade: 8, bloco: \"B\"})\n",
    "\n",
    "CREATE (ciencia:DISCIPLINA {nome: 'Ciência de dados', id: 1, créditos: 2})\n",
    "CREATE (paradigmas:DISCIPLINA {nome: 'Paradigmas', id: 2, créditos: 2})\n",
    "CREATE (so:DISCIPLINA {nome: 'SO', id: 3, créditos: 4})\n",
    "CREATE (ia:DISCIPLINA {nome: 'IA', id: 4, créditos: 4})\n",
    "CREATE (compiladores:DISCIPLINA {nome: 'Compiladores', id: 5, créditos: 4})\n",
    "\n",
    "\n",
    "CREATE (jose)-[:MATRICULADO]->(ciencia)\n",
    "CREATE (mariana)-[:MATRICULADO]->(ciencia)\n",
    "CREATE (gabriela)-[:MATRICULADO]->(ciencia)\n",
    "\n",
    "CREATE (jose)-[:MATRICULADO]->(paradigmas)\n",
    "CREATE (mariana)-[:MATRICULADO]->(paradigmas)\n",
    "CREATE (gabriela)-[:MATRICULADO]->(paradigmas)\n",
    "\n",
    "CREATE (mariana)-[:MATRICULADO]->(ia)\n",
    "\n",
    "CREATE (gabriela)-[:MATRICULADO]->(so)\n",
    "CREATE (caio)-[:MATRICULADO]->(so)\n",
    "\n",
    "CREATE (jose)-[:MATRICULADO]->(compiladores)\n",
    "CREATE (gabriela)-[:MATRICULADO]->(compiladores)\n",
    "CREATE (caio)-[:MATRICULADO]->(compiladores)\n",
    "\n",
    "CREATE (ciencia)-[:ALOCADO]->(a101)\n",
    "CREATE (paradigmas)-[:ALOCADO]->(a101)\n",
    "CREATE (ia)-[:ALOCADO]->(b222)\n",
    "CREATE (compiladores)-[:ALOCADO]->(a231)\n",
    "CREATE (so)-[:ALOCADO]->(c127)\n",
    "\"\"\")\n",
    "\n",
    "\n",
    "db = CriarAmizades(url, usuario, senha)\n",
    "db.carrega_base()\n",
    "db.close()\n",
    "print(\"base carregada\")"
   ]
  },
  {
   "cell_type": "markdown",
   "metadata": {
    "id": "8bUoqjUe0irX"
   },
   "source": [
    "# Consultas"
   ]
  },
  {
   "cell_type": "code",
   "execution_count": 7,
   "metadata": {
    "id": "FPiwFFtyzqJy"
   },
   "outputs": [],
   "source": [
    "class Neo4jConnection:\n",
    "  def __init__(self, uri, user, pwd):\n",
    "    self.__uri = uri\n",
    "    self.__user = user\n",
    "    self.__pwd = pwd\n",
    "    self.__driver = None\n",
    "    try:\n",
    "        self.__driver = GraphDatabase.driver(self.__uri, auth=(self.__user, self.__pwd))\n",
    "    except Exception as e:\n",
    "        print(\"Failed to create the driver:\", e)\n",
    "\n",
    "  def close(self):\n",
    "    if self.__driver is not None:\n",
    "        self.__driver.close()\n",
    "\n",
    "  def query(self, query, parameters=None, db=None):\n",
    "    assert self.__driver is not None, \"Driver not initialized!\"\n",
    "    session = None\n",
    "    response = None\n",
    "    try:\n",
    "      session = self.__driver.session(database=db) if db is not None else self.__driver.session()\n",
    "      response = list(session.run(query, parameters))\n",
    "    except Exception as e:\n",
    "      print(\"Query failed:\", e)\n",
    "    finally:\n",
    "      if session is not None:\n",
    "        session.close()\n",
    "    return response\n",
    "\n",
    "conn = Neo4jConnection(uri=url,\n",
    "                       user=usuario,\n",
    "                       pwd=senha)\n",
    "\n",
    "def consultar(query):\n",
    "  return conn.query(query)\n",
    "  # for line in conn.query(query):\n",
    "  #   print(dict(line))"
   ]
  },
  {
   "cell_type": "code",
   "execution_count": 9,
   "metadata": {
    "colab": {
     "base_uri": "https://localhost:8080/"
    },
    "id": "x_vHuqePz9sy",
    "outputId": "2168739d-d0d3-40f8-942f-4230cd83802e"
   },
   "outputs": [
    {
     "name": "stdout",
     "output_type": "stream",
     "text": [
      "Créditos do estudante:\n",
      "\n"
     ]
    },
    {
     "data": {
      "text/plain": [
       "[<Record nome='Gabriela Oliveira' total_creditos=12>,\n",
       " <Record nome='Jose da Silva' total_creditos=8>,\n",
       " <Record nome='Mariana Almeida' total_creditos=8>,\n",
       " <Record nome='Caio Catalão' total_creditos=8>]"
      ]
     },
     "execution_count": 9,
     "metadata": {},
     "output_type": "execute_result"
    }
   ],
   "source": [
    "##### Estudante + créditos totais\n",
    "\n",
    "\n",
    "# Match (a:Nó)-[r:Relacao]->(b:Nó)\n",
    "####\n",
    "\n",
    "print(\"Créditos do estudante:\\n\")\n",
    "\n",
    "consultar(\"\"\"\n",
    "MATCH (p:PESSOA)-[:MATRICULADO]->(d:DISCIPLINA)\n",
    "WITH p.nome AS nome, SUM(d.créditos) AS total_creditos\n",
    "RETURN nome, total_creditos\n",
    "ORDER BY total_creditos DESC\n",
    "\"\"\")"
   ]
  },
  {
   "cell_type": "code",
   "execution_count": 10,
   "metadata": {
    "colab": {
     "base_uri": "https://localhost:8080/"
    },
    "id": "ZcolqOaV0FhS",
    "outputId": "3c096be0-a8ad-4287-8bd3-b35e147c9218"
   },
   "outputs": [
    {
     "name": "stdout",
     "output_type": "stream",
     "text": [
      "\n",
      "Estudantes com mais de 4 créditos:\n",
      "\n"
     ]
    },
    {
     "data": {
      "text/plain": [
       "[<Record nome='Gabriela Oliveira' total_creditos=12>,\n",
       " <Record nome='Jose da Silva' total_creditos=8>,\n",
       " <Record nome='Mariana Almeida' total_creditos=8>,\n",
       " <Record nome='Caio Catalão' total_creditos=8>]"
      ]
     },
     "execution_count": 10,
     "metadata": {},
     "output_type": "execute_result"
    }
   ],
   "source": [
    "print(\"\\nEstudantes com mais de 4 créditos:\\n\")\n",
    "\n",
    "consultar(\"\"\"\n",
    "MATCH (p:PESSOA)-[:MATRICULADO]->(d:DISCIPLINA)\n",
    "WITH p.nome AS nome, SUM(d.créditos) AS total_creditos\n",
    "WHERE total_creditos > 4\n",
    "RETURN nome, total_creditos\n",
    "ORDER BY total_creditos DESC\n",
    "\"\"\")"
   ]
  },
  {
   "cell_type": "code",
   "execution_count": 11,
   "metadata": {
    "colab": {
     "base_uri": "https://localhost:8080/"
    },
    "id": "SkRSCkEt0I1l",
    "outputId": "35a28ff2-ab99-4ff0-def8-8fd012f6c49a"
   },
   "outputs": [
    {
     "name": "stdout",
     "output_type": "stream",
     "text": [
      "\n",
      "Disciplina por aluno:\n",
      "\n"
     ]
    },
    {
     "data": {
      "text/plain": [
       "[<Record disciplina='Ciência de dados' num_alunos=3>,\n",
       " <Record disciplina='Paradigmas' num_alunos=3>,\n",
       " <Record disciplina='Compiladores' num_alunos=3>,\n",
       " <Record disciplina='SO' num_alunos=2>,\n",
       " <Record disciplina='IA' num_alunos=1>]"
      ]
     },
     "execution_count": 11,
     "metadata": {},
     "output_type": "execute_result"
    }
   ],
   "source": [
    "print(\"\\nDisciplina por aluno:\\n\")\n",
    "\n",
    "consultar(\"\"\"\n",
    "MATCH (p:PESSOA)-[:MATRICULADO]->(d:DISCIPLINA)\n",
    "WITH d.nome AS disciplina, COUNT(p) AS num_alunos\n",
    "RETURN disciplina, num_alunos\n",
    "ORDER BY num_alunos DESC\n",
    "\"\"\")"
   ]
  },
  {
   "cell_type": "code",
   "execution_count": 13,
   "metadata": {
    "colab": {
     "base_uri": "https://localhost:8080/"
    },
    "id": "hP3nT3fM0M3q",
    "outputId": "5961b975-d92f-40e4-e8ca-7c2c96e4680d"
   },
   "outputs": [
    {
     "name": "stdout",
     "output_type": "stream",
     "text": [
      "\n",
      "Disciplina com mais alunos matriculados ordenada:\n",
      "\n"
     ]
    },
    {
     "data": {
      "text/plain": [
       "[<Record sala='A101' capacidade=10 num_alunos=6 ocupacao=60.0>,\n",
       " <Record sala='C127' capacidade=5 num_alunos=2 ocupacao=40.0>,\n",
       " <Record sala='A231' capacidade=10 num_alunos=3 ocupacao=30.0>,\n",
       " <Record sala='B222' capacidade=8 num_alunos=1 ocupacao=12.5>]"
      ]
     },
     "execution_count": 13,
     "metadata": {},
     "output_type": "execute_result"
    }
   ],
   "source": [
    "print(\"\\nDisciplina com mais alunos matriculados ordenada:\\n\")\n",
    "\n",
    "consultar(\"\"\"\n",
    "MATCH (d:DISCIPLINA)-[:ALOCADO]->(s:SALA)\n",
    "MATCH (p:PESSOA)-[:MATRICULADO]->(d)\n",
    "WITH s, COUNT(p) AS num_alunos, s.capacidade AS capacidade\n",
    "WITH s.sala AS sala, num_alunos, capacidade, (toFloat(num_alunos) / capacidade) * 100 AS ocupacao\n",
    "RETURN sala, capacidade, num_alunos, ocupacao\n",
    "ORDER BY ocupacao DESC\n",
    "\"\"\")"
   ]
  },
  {
   "cell_type": "code",
   "execution_count": null,
   "metadata": {
    "colab": {
     "base_uri": "https://localhost:8080/"
    },
    "id": "U4pCMZTF0QiS",
    "outputId": "cd63e5a4-0edc-4bd7-c3e9-17ccb8c1a661"
   },
   "outputs": [
    {
     "name": "stdout",
     "output_type": "stream",
     "text": [
      "\n",
      "Alunos por sala de aula:\n",
      "\n"
     ]
    },
    {
     "data": {
      "text/plain": [
       "[<Record Sala='A101' Alunos=['Jose da Silva', 'Mariana Almeida', 'Gabriela Oliveira', 'Jose da Silva', 'Mariana Almeida', 'Gabriela Oliveira']>,\n",
       " <Record Sala='C127' Alunos=['Gabriela Oliveira', 'Caio Catalão']>,\n",
       " <Record Sala='B222' Alunos=['Mariana Almeida']>,\n",
       " <Record Sala='A231' Alunos=['Jose da Silva', 'Gabriela Oliveira', 'Caio Catalão']>]"
      ]
     },
     "execution_count": 31,
     "metadata": {},
     "output_type": "execute_result"
    }
   ],
   "source": [
    "print(\"\\nAlunos por sala de aula:\\n\")\n",
    "\n",
    "consultar(\"\"\"\n",
    "MATCH (s:SALA)<-[:ALOCADO]-(d:DISCIPLINA)<-[:MATRICULADO]-(p:PESSOA)\n",
    "RETURN s.sala AS Sala, COLLECT(p.nome) AS Alunos\n",
    "\n",
    "\"\"\")"
   ]
  },
  {
   "cell_type": "code",
   "execution_count": 15,
   "metadata": {
    "colab": {
     "base_uri": "https://localhost:8080/"
    },
    "id": "oKdDaGHu0U4t",
    "outputId": "7c003eeb-b2ac-4f66-a298-389c15e85010"
   },
   "outputs": [
    {
     "name": "stdout",
     "output_type": "stream",
     "text": [
      "\n",
      "Quantidade de alunos por blocos da faculdade (A,B,C):\n",
      "\n"
     ]
    },
    {
     "data": {
      "text/plain": [
       "[<Record bloco='A' num_alunos=9>,\n",
       " <Record bloco='B' num_alunos=1>,\n",
       " <Record bloco='C' num_alunos=2>]"
      ]
     },
     "execution_count": 15,
     "metadata": {},
     "output_type": "execute_result"
    }
   ],
   "source": [
    "# https://neo4j.com/docs/cypher-manual/current/syntax/patterns/#cypher-pattern-label\n",
    "\n",
    "print(\"\\nQuantidade de alunos por blocos da faculdade (A,B,C):\\n\")\n",
    "\n",
    "consultar(\"\"\"\n",
    "MATCH (d:DISCIPLINA)-[:ALOCADO]->(s:SALA)\n",
    "MATCH (p:PESSOA)-[:MATRICULADO]->(d)\n",
    "WITH s.bloco AS bloco, COUNT(p) AS num_alunos\n",
    "RETURN bloco, num_alunos\n",
    "ORDER BY bloco ASC\n",
    "\"\"\")"
   ]
  }
 ],
 "metadata": {
  "colab": {
   "provenance": []
  },
  "kernelspec": {
   "display_name": "Python 3",
   "name": "python3"
  },
  "language_info": {
   "name": "python"
  }
 },
 "nbformat": 4,
 "nbformat_minor": 0
}
